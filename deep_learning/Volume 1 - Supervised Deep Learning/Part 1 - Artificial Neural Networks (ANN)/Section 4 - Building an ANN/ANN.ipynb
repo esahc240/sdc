{
 "cells": [
  {
   "cell_type": "markdown",
   "metadata": {},
   "source": [
    "We have a data set consisting of 10,000 rows from customers at a bank. We want to assess and address the problem of client churn. 6 months ago the bank took a small sample of customers and measured everything they knew. We're going to check the column \"exited\" to see if a client left in the 6 month window; 1 = left 0 = stayed. Your goal is to create a _geodemographic segmentation model_ to tell the bank which clients are most likely to leave. \n",
    "\n",
    "###### Binary outcome, lots of independent variables\n",
    "\n",
    "This is a classification problem, an ANN can be great at this\n",
    "\n",
    "Theano is a numerical computation library - can run on your CPU or GPU! GPU has more cores and can run more floating points per sec than cpu\n",
    "\n",
    "Tensorflow - opensource numerical computation library, runs on CPU or GPU. Developed by google\n",
    "\n",
    "Keras - wraps the two previous libraries to make it easy to build deep learning models with a few lines of code. Developed by google. Like the scikitlearn of neural networks"
   ]
  },
  {
   "cell_type": "code",
   "execution_count": null,
   "metadata": {},
   "outputs": [],
   "source": []
  }
 ],
 "metadata": {
  "kernelspec": {
   "display_name": "Python [conda env:tensorflow]",
   "language": "python",
   "name": "conda-env-tensorflow-py"
  },
  "language_info": {
   "codemirror_mode": {
    "name": "ipython",
    "version": 3
   },
   "file_extension": ".py",
   "mimetype": "text/x-python",
   "name": "python",
   "nbconvert_exporter": "python",
   "pygments_lexer": "ipython3",
   "version": "3.5.3"
  }
 },
 "nbformat": 4,
 "nbformat_minor": 1
}
