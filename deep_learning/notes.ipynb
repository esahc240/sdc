{
 "cells": [
  {
   "cell_type": "markdown",
   "metadata": {},
   "source": [
    "## What is deep learning?\n",
    "Input layer - inputs\n",
    "Output layers - answering your question\n",
    "inbetween is the \"hidden layer\" - billions and billions of neurons that process information\n",
    "\n",
    "Where is the deep learning?\n",
    "Separate the layers further to include more and more hidden layers - then connect everything - other hidden layers serve as inputs to hidden layers\n",
    "\n"
   ]
  },
  {
   "cell_type": "markdown",
   "metadata": {},
   "source": [
    "### Part 1: Plan of attack\n",
    "- Neuron\n",
    "- Activation Function - which one is best for you, which layers you want to use functions in\n",
    "- How do neural networks work? - Seeing a neural network in action will give us a goal\n",
    "- How do neural networks learn?\n",
    "- Gradient Descent - how it's better than a \"brute force\" method we always use, idiots\n",
    "- Stochastic Gradient Descent - even better/stronger than the lame-ass predecessor\n",
    "- Backpropagation \n",
    "\n"
   ]
  },
  {
   "cell_type": "markdown",
   "metadata": {},
   "source": [
    "### The Neuron\n",
    "The basic building block of deep learning\n",
    "Start with the neuron - gets an input and gives an output\n",
    "- Inputs are represented by other neurons\n",
    " - yellow means an input layer\n",
    " - sometimes yellows get inputs from other yellows\n",
    "- the inputs are your senses - hear touch smell etc.\n",
    "- Your brain is locked in a black box - we have no idea what the heck is going on in there, tastes go in and we taste etc.\n",
    "- Signals from inputs are passed through synapses, outputs are passed through other synapses\n",
    "\n",
    "Lets look at the different elements\n",
    "#### Input layer\n",
    "- Inputs are independent variables\n",
    " - one row in your database, age, money, etc.\n",
    "- you need to standardize (mean 0 stddev 1) all your inputs, or normarlize them, which one? We'll find out later, calm down\n",
    " - you basically want all of them to be within simular ranges of values- they'll all be combined etc, so it's easier for processing if there's some homogeny\n",
    " - good additional reading is http://yann.lecun.com/exdb/bulis/pdf/lecun-98b.pdf for standardization and normalization\n",
    "- Output values can be continuous (price) binary (person chose to stay or not) or categorical (one of several values)- need to represent these as numbers\n",
    "Whatever inputs you put in is for one row, the output is that one row - like a multivariate regression, it's always one row per time in a neuron with multiple columns\n",
    "\n",
    "#### Synapses\n",
    "- all assigned weights\n",
    "- weighting is crucial - it's how they learn\n",
    " - by adjusting the weights the neuron can judge which are most important\n",
    " - these are what get adjusted by the neuron - gradient descent/backpropagation\n",
    "\n",
    "#### Neuron\n",
    "- what happens in the neuron?\n",
    " - all of the values get added up, it take sthe weighted sum of all the input values\n",
    " - add up, multiply by weight, add it up etc.\n",
    "- Then it applys an activation function\n",
    " - a function assigned to the layer\n",
    " - applied to the weighted sum, neuron passes that signal on as the output depending on the function (sometimes it won't pass on the signal from the function?)\n"
   ]
  },
  {
   "cell_type": "code",
   "execution_count": null,
   "metadata": {},
   "outputs": [],
   "source": []
  },
  {
   "cell_type": "code",
   "execution_count": null,
   "metadata": {},
   "outputs": [],
   "source": []
  }
 ],
 "metadata": {
  "kernelspec": {
   "display_name": "Python [conda env:py35]",
   "language": "python",
   "name": "conda-env-py35-py"
  },
  "language_info": {
   "codemirror_mode": {
    "name": "ipython",
    "version": 3
   },
   "file_extension": ".py",
   "mimetype": "text/x-python",
   "name": "python",
   "nbconvert_exporter": "python",
   "pygments_lexer": "ipython3",
   "version": "3.5.2"
  }
 },
 "nbformat": 4,
 "nbformat_minor": 1
}
