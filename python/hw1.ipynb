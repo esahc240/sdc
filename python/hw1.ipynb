{
 "cells": [
  {
   "cell_type": "markdown",
   "metadata": {},
   "source": [
    "# Law of large numbers\n"
   ]
  },
  {
   "cell_type": "markdown",
   "metadata": {},
   "source": [
    "---"
   ]
  },
  {
   "cell_type": "markdown",
   "metadata": {},
   "source": [
    "$$ Xn -> E(X) $$ when $$ n -> infinity $$\n",
    "\n",
    "The average across the sample = Xn\n",
    "\n",
    "as you increase the number of people in your sample (n), the measure of the value in your sample will converge to the expected value (E(x))\n",
    "\n",
    "Example of coin tosses - 10 coin toses - 7/3 - 70%/30%\n",
    "As you do more flips you'll eventually get to the expected probability (50/50)\n",
    "\n",
    "For this problem we'll also need the random distribution.\n",
    "With a standard bell curve - sigma (o with line on top) = standard deviation. \n",
    "\n"
   ]
  },
  {
   "cell_type": "markdown",
   "metadata": {},
   "source": [
    "---"
   ]
  },
  {
   "cell_type": "markdown",
   "metadata": {},
   "source": [
    "Test the law of large numbers for N random normally distributed numbers with mean = 0, stdev = 1:\n",
    "\n",
    "Create a python script that will count how many of these numbers fall between -1 and 1 and divide by the toal quantity of N\n",
    "\n",
    "You know that E(X) = 68.2%\n",
    "\n",
    "Check that Mean (Xn) -> E(X) as you rerun your script while increasing N\n"
   ]
  },
  {
   "cell_type": "code",
   "execution_count": 19,
   "metadata": {},
   "outputs": [
    {
     "name": "stdout",
     "output_type": "stream",
     "text": [
      "n = 1, mean = 1.0000002\n",
      "n = 101, mean = 0.6732672\n",
      "n = 201, mean = 0.6766172\n",
      "n = 301, mean = 0.6943522\n",
      "n = 401, mean = 0.6458852\n",
      "n = 501, mean = 0.6906192\n",
      "n = 601, mean = 0.7221302\n",
      "n = 701, mean = 0.6776032\n",
      "n = 801, mean = 0.6529342\n",
      "n = 901, mean = 0.6903442\n",
      "n = 1001, mean = 0.6983022\n",
      "n = 1101, mean = 0.6466852\n",
      "n = 1201, mean = 0.6960872\n",
      "n = 1301, mean = 0.6956192\n",
      "n = 1401, mean = 0.6895072\n",
      "n = 1501, mean = 0.6715522\n",
      "n = 1601, mean = 0.6802002\n",
      "n = 1701, mean = 0.6737212\n",
      "n = 1801, mean = 0.6657412\n",
      "n = 1901, mean = 0.6696482\n",
      "n = 2001, mean = 0.6911542\n",
      "n = 2101, mean = 0.6696812\n",
      "n = 2201, mean = 0.6910502\n",
      "n = 2301, mean = 0.6718822\n",
      "n = 2401, mean = 0.6738862\n",
      "n = 2501, mean = 0.6773292\n",
      "n = 2601, mean = 0.6828142\n",
      "n = 2701, mean = 0.6938172\n",
      "n = 2801, mean = 0.6868982\n",
      "n = 2901, mean = 0.6859702\n",
      "n = 3001, mean = 0.6871042\n",
      "n = 3101, mean = 0.6817162\n",
      "n = 3201, mean = 0.6704152\n",
      "n = 3301, mean = 0.6755532\n",
      "n = 3401, mean = 0.6827402\n",
      "n = 3501, mean = 0.6915172\n",
      "n = 3601, mean = 0.6773122\n",
      "n = 3701, mean = 0.6730612\n",
      "n = 3801, mean = 0.6821892\n",
      "n = 3901, mean = 0.6741862\n",
      "n = 4001, mean = 0.6780802\n",
      "n = 4101, mean = 0.6764202\n",
      "n = 4201, mean = 0.6850752\n",
      "n = 4301, mean = 0.6914672\n",
      "n = 4401, mean = 0.6950692\n",
      "n = 4501, mean = 0.6851812\n",
      "n = 4601, mean = 0.6844162\n",
      "n = 4701, mean = 0.6736862\n",
      "n = 4801, mean = 0.6815252\n",
      "n = 4901, mean = 0.6902672\n",
      "n = 5001, mean = 0.6896622\n",
      "n = 5101, mean = 0.6824152\n",
      "n = 5201, mean = 0.6742932\n",
      "n = 5301, mean = 0.6889272\n",
      "n = 5401, mean = 0.6782082\n",
      "n = 5501, mean = 0.6826032\n",
      "n = 5601, mean = 0.6798792\n",
      "n = 5701, mean = 0.6800562\n",
      "n = 5801, mean = 0.6710912\n",
      "n = 5901, mean = 0.6819182\n",
      "n = 6001, mean = 0.6763872\n",
      "n = 6101, mean = 0.6830032\n",
      "n = 6201, mean = 0.6842442\n",
      "n = 6301, mean = 0.6849712\n",
      "n = 6401, mean = 0.6816122\n",
      "n = 6501, mean = 0.6746652\n",
      "n = 6601, mean = 0.6794432\n",
      "n = 6701, mean = 0.6751232\n",
      "n = 6801, mean = 0.6878402\n",
      "n = 6901, mean = 0.6843942\n",
      "n = 7001, mean = 0.6796172\n",
      "n = 7101, mean = 0.6834252\n",
      "n = 7201, mean = 0.6874052\n",
      "n = 7301, mean = 0.6811402\n",
      "n = 7401, mean = 0.6904472\n",
      "n = 7501, mean = 0.6791092\n",
      "n = 7601, mean = 0.6878042\n",
      "n = 7701, mean = 0.6770552\n",
      "n = 7801, mean = 0.6841432\n",
      "n = 7901, mean = 0.6757372\n",
      "n = 8001, mean = 0.6720412\n",
      "n = 8101, mean = 0.6752252\n",
      "n = 8201, mean = 0.6905262\n",
      "n = 8301, mean = 0.6937722\n",
      "n = 8401, mean = 0.6851572\n",
      "n = 8501, mean = 0.6928602\n",
      "n = 8601, mean = 0.6782932\n",
      "n = 8701, mean = 0.6832552\n",
      "n = 8801, mean = 0.6739012\n",
      "n = 8901, mean = 0.6855412\n",
      "n = 9001, mean = 0.6799242\n",
      "n = 9101, mean = 0.6876172\n",
      "n = 9201, mean = 0.6798172\n",
      "n = 9301, mean = 0.6814322\n",
      "n = 9401, mean = 0.6833322\n",
      "n = 9501, mean = 0.6835072\n",
      "n = 9601, mean = 0.6821162\n",
      "n = 9701, mean = 0.6800332\n",
      "n = 9801, mean = 0.6834002\n",
      "n = 9901, mean = 0.6865972\n"
     ]
    }
   ],
   "source": [
    "import numpy as np\n",
    "from numpy.random import randn\n",
    "\n",
    "def checker(n):\n",
    "    vals = randn(n)\n",
    "    in_range = [d for d in vals if d > -1 and d < 1]\n",
    "    mean = len(in_range)/n\n",
    "    return 'n = %s, mean = %f2' % (n, mean)\n",
    "\n",
    "for i in range(1,10000,100):\n",
    "    print(checker(i))\n",
    "\n",
    "    \n",
    "    \n",
    "    "
   ]
  },
  {
   "cell_type": "code",
   "execution_count": 20,
   "metadata": {},
   "outputs": [
    {
     "name": "stdout",
     "output_type": "stream",
     "text": [
      "0\n",
      "1\n",
      "2\n",
      "3\n"
     ]
    }
   ],
   "source": [
    "c = 0\n",
    "while c < 4:\n",
    "    print(c)\n",
    "    c += 1"
   ]
  },
  {
   "cell_type": "code",
   "execution_count": null,
   "metadata": {},
   "outputs": [],
   "source": []
  }
 ],
 "metadata": {
  "kernelspec": {
   "display_name": "Python [conda env:py35]",
   "language": "python",
   "name": "conda-env-py35-py"
  },
  "language_info": {
   "codemirror_mode": {
    "name": "ipython",
    "version": 3
   },
   "file_extension": ".py",
   "mimetype": "text/x-python",
   "name": "python",
   "nbconvert_exporter": "python",
   "pygments_lexer": "ipython3",
   "version": "3.5.2"
  }
 },
 "nbformat": 4,
 "nbformat_minor": 1
}
