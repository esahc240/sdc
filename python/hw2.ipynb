{
 "cells": [
  {
   "cell_type": "markdown",
   "metadata": {},
   "source": [
    "Your task is to calculate the following:\n",
    "- profit for each month\n",
    "- profit after tax for each month (tax rate 30%)\n",
    "- profit margin for each month - equals to profit after tax divided by revenue\n",
    "- good months - where the profit after tax was greater than the mean for the year\n",
    "- bad months - where the profit after tax was less than the mean for the year\n",
    "- the best month - where the profit after tax was max for the year\n",
    "- the worst month - where the profit after tax was min for the year\n",
    "\n",
    "All results need to be presented as lists.\n",
    "\n",
    "Results for dollar values need to be calculated with $0.01 precision, but need to be presented in units of $1,000 with no decimal points.\n",
    "\n",
    "Results for the profit margin ratio need to be presented in units of % with no decimal points (don't worry about % signs)(pfft).\n",
    "\n",
    "Note: your colleague has warned you that it is okay for tax for any given month to be negative (in accounting terms, negative tax translates to a deferred tax asset)."
   ]
  },
  {
   "cell_type": "code",
   "execution_count": 1,
   "metadata": {},
   "outputs": [],
   "source": [
    "#Data \n",
    "revenue = [14574.49, 7606.46, 8611.41, 9175.41, 8058.65, 8105.44, 11496.28, 9766.09, 10305.32, 14379.96, 10713.97, 15433.50]\n",
    "expenses = [12051.82, 5695.07, 12319.20, 12089.72, 8658.57, 840.20, 3285.73, 5821.12, 6976.93, 16618.61, 10054.37, 3803.96]"
   ]
  },
  {
   "cell_type": "code",
   "execution_count": 38,
   "metadata": {},
   "outputs": [
    {
     "name": "stdout",
     "output_type": "stream",
     "text": [
      "profit =  [2522.67, 1911.39, -3707.79, -2914.31, -599.92, 7265.24, 8210.55, 3944.97, 3328.39, -2238.65, 659.6, 11629.54]\n",
      "pat =  [1765.87, 1337.97, -2595.45, -2040.02, -419.94, 5085.67, 5747.38, 2761.48, 2329.87, -1567.06, 461.72, 8140.68]\n",
      "pmarg =  [12, 18, -30, -22, -5, 63, 50, 28, 23, -11, 4, 53]\n",
      "Good Months (mean = 1750.68) =  [1765.87, 5085.67, 5747.38, 2761.48, 2329.87, 8140.68]\n",
      "Bad Months (mean = 1750.68) =  [1337.97, -2595.45, -2040.02, -419.94, -1567.06, 461.72]\n",
      "Best Month =  8140.68\n",
      "Worst Month =  -2595.45\n"
     ]
    }
   ],
   "source": [
    "import numpy as np\n",
    "\n",
    "data = zip(revenue,expenses)\n",
    "\n",
    "profit = [round(r-e,2) for r, e in data]\n",
    "print('profit = ',profit)\n",
    "\n",
    "pat = [round(p * .7,2) for p in profit]\n",
    "print('pat = ',pat)\n",
    "\n",
    "pmarg = [round(p/r*100) for p,r in zip(pat,revenue)]\n",
    "print ('pmarg = ', pmarg)\n",
    "\n",
    "gm = [m for m in pat if m > np.mean(pat)]\n",
    "print('Good Months (mean = %s) = '%(round(np.mean(pat),2)), gm)\n",
    "\n",
    "bm = [m for m in pat if m < np.mean(pat)]\n",
    "print('Bad Months (mean = %s) = '%(round(np.mean(pat),2)), bm)\n",
    "\n",
    "print('Best Month = ', np.max(pat))\n",
    "\n",
    "print('Worst Month = ', np.min(pat))"
   ]
  },
  {
   "cell_type": "code",
   "execution_count": 41,
   "metadata": {},
   "outputs": [
    {
     "name": "stdout",
     "output_type": "stream",
     "text": [
      "[1, 2, 3, 4]\n"
     ]
    }
   ],
   "source": [
    "print(list(range(1,5)))"
   ]
  },
  {
   "cell_type": "code",
   "execution_count": null,
   "metadata": {},
   "outputs": [],
   "source": []
  }
 ],
 "metadata": {
  "kernelspec": {
   "display_name": "Python [conda env:py35]",
   "language": "python",
   "name": "conda-env-py35-py"
  },
  "language_info": {
   "codemirror_mode": {
    "name": "ipython",
    "version": 3
   },
   "file_extension": ".py",
   "mimetype": "text/x-python",
   "name": "python",
   "nbconvert_exporter": "python",
   "pygments_lexer": "ipython3",
   "version": "3.5.2"
  }
 },
 "nbformat": 4,
 "nbformat_minor": 1
}
